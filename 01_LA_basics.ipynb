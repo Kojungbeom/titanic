{
 "cells": [
  {
   "cell_type": "markdown",
   "metadata": {
    "id": "XGWOCH3VWQNc"
   },
   "source": [
    "# Numpy\n",
    "\n",
    "* In order to handle linear algebra by python, [**Numpy**](https://numpy.org/) is most common package!\n",
    "* [**Numpy**](https://numpy.org/) is the fundametal package for scientific computing with python.\n",
    "\n",
    "Python에서 가장 기본적인 모듈이라고 볼 수 있음.\n",
    "\n",
    "We can check the version of [**Numpy**](https://numpy.org/)\n"
   ]
  },
  {
   "cell_type": "code",
   "execution_count": 1,
   "metadata": {
    "colab": {
     "base_uri": "https://localhost:8080/",
     "height": 35
    },
    "id": "Lp_Bg1QaWQNd",
    "outputId": "6e530635-b9fe-450b-ffdc-06c12b96c0ff"
   },
   "outputs": [
    {
     "data": {
      "application/vnd.google.colaboratory.intrinsic+json": {
       "type": "string"
      },
      "text/plain": [
       "'1.18.5'"
      ]
     },
     "execution_count": 1,
     "metadata": {
      "tags": []
     },
     "output_type": "execute_result"
    }
   ],
   "source": [
    "import numpy as np\n",
    "\n",
    "np.__version__"
   ]
  },
  {
   "cell_type": "markdown",
   "metadata": {
    "id": "tlQ7SsWnWQNk"
   },
   "source": [
    "# Sympy\n",
    "\n",
    "We also use the [Sympy](https://www.sympy.org/en/index.html). It is a python library for symbolic mathematics.\n",
    "\n",
    "## Symbolic computation\n",
    "\n",
    "> matlab의 symbolic math와 같이, 대수 기호가 들어간 수식을 다루기 위해 개발된 python 기반의 패키지(모듈).\n",
    "> * $\\pi$와 같이 무한한 수를 기호로 표시하여 계산하는 것으로 보통 사람이 푸는 형태로 수식을 풀어냄.\n",
    "> * 즉, symbolic 연산은 **사람이 symbol을 이용하여 방정식을 푸는 것처럼 컴퓨터에서도 symbol을 이용하여 방정식을 푸는 것**을 의미.\n",
    "\n",
    "**Symbolic computation** deals with the computation of mathematical objects symbolically. This means that \n",
    "* the mathematical objects are represented exactly, not approximately, and \n",
    "* mathematical expressions with unevaluated variables are left in symbolic form.\n",
    "\n",
    "## Computer Algebra System (CAS)\n",
    "\n",
    "* 일반적인 수치해석적으로 수식을 푸는 것이 아닌, symbolic computation을 구현하여 수학 기호로 구성된 수식을 처리할 수 있는 S/W들을 가르킴.\n",
    "* Mathematica, Sage등이 대표적임.\n",
    "* Python의 Sympy 모듈 역시 CAS 중 하나라고 볼 수 있음.\n",
    "* Sympy의 경우, Open source이며 제한없이 사용가능하다는 점, 현재 가장 인기있는 Python언어에서 사용가능하다는 등이 장점임."
   ]
  },
  {
   "cell_type": "code",
   "execution_count": 2,
   "metadata": {
    "colab": {
     "base_uri": "https://localhost:8080/",
     "height": 35
    },
    "id": "1jgSh_PiWQNm",
    "outputId": "15b7cb1f-62cd-46fe-c31e-8a6525c02cf7"
   },
   "outputs": [
    {
     "data": {
      "application/vnd.google.colaboratory.intrinsic+json": {
       "type": "string"
      },
      "text/plain": [
       "'1.1.1'"
      ]
     },
     "execution_count": 2,
     "metadata": {
      "tags": []
     },
     "output_type": "execute_result"
    }
   ],
   "source": [
    "import sympy\n",
    "\n",
    "sympy.__version__"
   ]
  },
  {
   "cell_type": "markdown",
   "metadata": {
    "id": "9E86LZAeWQNr"
   },
   "source": [
    "기본적으로 `numpy` 만으로도 선형대수의 수치해석적 처리는 충분하다.\n",
    "단, 선형대수 자체를 공부하면서 이용한다면 `sympy`가 보다 편하고, 직접적인 이용가능한 기능이 많다.\n",
    "때문에, 이후에는 `numpy`와 `sympy`를 같이 이용하겠다."
   ]
  },
  {
   "cell_type": "markdown",
   "metadata": {
    "id": "OQ2rt2uDX0u7"
   },
   "source": [
    "If you use ***Google colab***, then run the cell below in order to add LaTeX support to your Colab notebook for SymPy."
   ]
  },
  {
   "cell_type": "code",
   "execution_count": 3,
   "metadata": {
    "id": "Gf9mwLbJXkA3"
   },
   "outputs": [],
   "source": [
    "import sympy\n",
    "\n",
    "def custom_latex_printer(exp, **options):\n",
    "    from google.colab.output._publish import javascript\n",
    "    url = \"https://cdnjs.cloudflare.com/ajax/libs/mathjax/2.7.3/latest.js?config=default\"\n",
    "    javascript(url=url)\n",
    "    return sympy.printing.latex(exp, **options)\n",
    "\n",
    "sympy.init_printing(use_latex=\"mathjax\", latex_printer=custom_latex_printer)"
   ]
  },
  {
   "cell_type": "markdown",
   "metadata": {
    "id": "LU4NFjMjWQNr"
   },
   "source": [
    "## Matrix Notations\n",
    "\n",
    "* The essential information of a linear system can be represented compactly in a rectangular array called **matrix**. \n",
    "* You should remember **coefficeint matrix** and **augmented matrix**."
   ]
  },
  {
   "cell_type": "code",
   "execution_count": 6,
   "metadata": {
    "colab": {
     "base_uri": "https://localhost:8080/",
     "height": 86
    },
    "id": "X0keBOOiWQNs",
    "outputId": "7aa13805-2685-4224-b244-24f6c390c5ef"
   },
   "outputs": [
    {
     "name": "stdout",
     "output_type": "stream",
     "text": [
      "(3, 10)\n",
      "[[2 0 4 1 4 0 1 2 1 3]\n",
      " [4 1 1 4 2 1 4 3 3 4]\n",
      " [4 4 3 3 3 0 3 2 3 2]]\n"
     ]
    }
   ],
   "source": [
    "x = np.random.randint(0,5,size=(3,10))\n",
    "print(x.shape)\n",
    "print(x)"
   ]
  },
  {
   "cell_type": "markdown",
   "metadata": {
    "id": "4X-cz9fgWne8"
   },
   "source": [
    "For **symbolic computation**, we can use `sympy`."
   ]
  },
  {
   "cell_type": "code",
   "execution_count": 7,
   "metadata": {
    "colab": {
     "base_uri": "https://localhost:8080/",
     "height": 95
    },
    "id": "mGB_vSw4WQNw",
    "outputId": "89295087-8b9c-4c19-c34f-e57773328802"
   },
   "outputs": [
    {
     "name": "stdout",
     "output_type": "stream",
     "text": [
      "SHAPE OF A= (3, 10)\n"
     ]
    },
    {
     "data": {
      "text/html": [
       "<script src='https://cdnjs.cloudflare.com/ajax/libs/mathjax/2.7.3/latest.js?config=default'></script>"
      ],
      "text/plain": [
       "<IPython.core.display.HTML object>"
      ]
     },
     "metadata": {
      "tags": []
     },
     "output_type": "display_data"
    },
    {
     "data": {
      "text/latex": [
       "$$\\left[\\begin{matrix}2 & 0 & 4 & 1 & 4 & 0 & 1 & 2 & 1 & 3\\\\4 & 1 & 1 & 4 & 2 & 1 & 4 & 3 & 3 & 4\\\\4 & 4 & 3 & 3 & 3 & 0 & 3 & 2 & 3 & 2\\end{matrix}\\right]$$"
      ],
      "text/plain": [
       "⎡2  0  4  1  4  0  1  2  1  3⎤\n",
       "⎢                            ⎥\n",
       "⎢4  1  1  4  2  1  4  3  3  4⎥\n",
       "⎢                            ⎥\n",
       "⎣4  4  3  3  3  0  3  2  3  2⎦"
      ]
     },
     "execution_count": 7,
     "metadata": {
      "tags": []
     },
     "output_type": "execute_result"
    }
   ],
   "source": [
    "#sympy.init_printing() # to enable symbolic representation by using Latex \n",
    "x_sym = sympy.Matrix(x)\n",
    "print('SHAPE OF A=',x_sym.shape)\n",
    "x_sym"
   ]
  },
  {
   "cell_type": "markdown",
   "metadata": {
    "id": "v6a7rZ8yWQNz"
   },
   "source": [
    "# Reduced Row Echelon Form (RREF)"
   ]
  },
  {
   "cell_type": "code",
   "execution_count": 8,
   "metadata": {
    "colab": {
     "base_uri": "https://localhost:8080/",
     "height": 78
    },
    "id": "Itqm6WU8WQN0",
    "outputId": "435dee50-83c0-415b-d0cb-1a549e1d6c89"
   },
   "outputs": [
    {
     "data": {
      "text/html": [
       "<script src='https://cdnjs.cloudflare.com/ajax/libs/mathjax/2.7.3/latest.js?config=default'></script>"
      ],
      "text/plain": [
       "<IPython.core.display.HTML object>"
      ]
     },
     "metadata": {
      "tags": []
     },
     "output_type": "display_data"
    },
    {
     "data": {
      "text/latex": [
       "$$\\left ( \\left[\\begin{matrix}1 & 0 & 0 & \\frac{51}{46} & \\frac{8}{23} & \\frac{8}{23} & \\frac{51}{46} & \\frac{19}{23} & \\frac{35}{46} & \\frac{53}{46}\\\\0 & 1 & 0 & - \\frac{3}{23} & - \\frac{5}{23} & - \\frac{5}{23} & - \\frac{3}{23} & - \\frac{9}{23} & \\frac{2}{23} & - \\frac{18}{23}\\\\0 & 0 & 1 & - \\frac{7}{23} & \\frac{19}{23} & - \\frac{4}{23} & - \\frac{7}{23} & \\frac{2}{23} & - \\frac{3}{23} & \\frac{4}{23}\\end{matrix}\\right], \\quad \\left ( 0, \\quad 1, \\quad 2\\right )\\right )$$"
      ],
      "text/plain": [
       "⎛⎡          51                   51     19     35     53 ⎤           ⎞\n",
       "⎜⎢1  0  0   ──    8/23   8/23    ──     ──     ──     ── ⎥           ⎟\n",
       "⎜⎢          46                   46     23     46     46 ⎥           ⎟\n",
       "⎜⎢                                                       ⎥           ⎟\n",
       "⎜⎢                                                   -18 ⎥           ⎟\n",
       "⎜⎢0  1  0  -3/23  -5/23  -5/23  -3/23  -9/23  2/23   ────⎥, (0, 1, 2)⎟\n",
       "⎜⎢                                                    23 ⎥           ⎟\n",
       "⎜⎢                                                       ⎥           ⎟\n",
       "⎜⎢                 19                                    ⎥           ⎟\n",
       "⎜⎢0  0  1  -7/23   ──    -4/23  -7/23  2/23   -3/23  4/23⎥           ⎟\n",
       "⎝⎣                 23                                    ⎦           ⎠"
      ]
     },
     "execution_count": 8,
     "metadata": {
      "tags": []
     },
     "output_type": "execute_result"
    }
   ],
   "source": [
    "x_ref = x_sym.rref()\n",
    "x_ref"
   ]
  },
  {
   "cell_type": "code",
   "execution_count": 9,
   "metadata": {
    "colab": {
     "base_uri": "https://localhost:8080/",
     "height": 34
    },
    "id": "kO_Fn3GJwha-",
    "outputId": "6a5b6797-0b2d-44fc-b9e3-497782f81653"
   },
   "outputs": [
    {
     "name": "stdout",
     "output_type": "stream",
     "text": [
      "<class 'sympy.matrices.dense.MutableDenseMatrix'> <class 'tuple'>\n"
     ]
    }
   ],
   "source": [
    "print(type(x_ref[0]), type(x_ref[1]))"
   ]
  },
  {
   "cell_type": "code",
   "execution_count": 10,
   "metadata": {
    "colab": {
     "base_uri": "https://localhost:8080/",
     "height": 98
    },
    "id": "FdMntXjWWQN3",
    "outputId": "262d6970-987b-46cf-a534-73a95abc1f7d"
   },
   "outputs": [
    {
     "data": {
      "text/html": [
       "<script src='https://cdnjs.cloudflare.com/ajax/libs/mathjax/2.7.3/latest.js?config=default'></script>"
      ],
      "text/plain": [
       "<IPython.core.display.HTML object>"
      ]
     },
     "metadata": {
      "tags": []
     },
     "output_type": "display_data"
    },
    {
     "data": {
      "text/latex": [
       "$$\\left[\\begin{matrix}0 & -3 & -6 & 4 & 9\\\\-1 & -2 & -1 & 3 & 1\\\\-2 & -3 & 0 & 3 & -1\\\\1 & 4 & 5 & -9 & -7\\end{matrix}\\right]$$"
      ],
      "text/plain": [
       "⎡0   -3  -6  4   9 ⎤\n",
       "⎢                  ⎥\n",
       "⎢-1  -2  -1  3   1 ⎥\n",
       "⎢                  ⎥\n",
       "⎢-2  -3  0   3   -1⎥\n",
       "⎢                  ⎥\n",
       "⎣1   4   5   -9  -7⎦"
      ]
     },
     "execution_count": 10,
     "metadata": {
      "tags": []
     },
     "output_type": "execute_result"
    }
   ],
   "source": [
    "A = np.array([\n",
    "    [0,-3,-6,4,9],\n",
    "    [-1,-2,-1,3,1],\n",
    "    [-2,-3,0,3,-1],\n",
    "    [1,4,5,-9,-7]])\n",
    "A_sym = sympy.Matrix(A)\n",
    "A_sym"
   ]
  },
  {
   "cell_type": "code",
   "execution_count": 11,
   "metadata": {
    "colab": {
     "base_uri": "https://localhost:8080/",
     "height": 98
    },
    "id": "a9LTS04NWQN7",
    "outputId": "8498c2ae-28e6-4106-a43b-ded57a1c0092"
   },
   "outputs": [
    {
     "data": {
      "text/html": [
       "<script src='https://cdnjs.cloudflare.com/ajax/libs/mathjax/2.7.3/latest.js?config=default'></script>"
      ],
      "text/plain": [
       "<IPython.core.display.HTML object>"
      ]
     },
     "metadata": {
      "tags": []
     },
     "output_type": "display_data"
    },
    {
     "data": {
      "text/latex": [
       "$$\\left ( \\left[\\begin{matrix}1 & 0 & -3 & 0 & 5\\\\0 & 1 & 2 & 0 & -3\\\\0 & 0 & 0 & 1 & 0\\\\0 & 0 & 0 & 0 & 0\\end{matrix}\\right], \\quad \\left ( 0, \\quad 1, \\quad 3\\right )\\right )$$"
      ],
      "text/plain": [
       "⎛⎡1  0  -3  0  5 ⎤           ⎞\n",
       "⎜⎢               ⎥           ⎟\n",
       "⎜⎢0  1  2   0  -3⎥           ⎟\n",
       "⎜⎢               ⎥, (0, 1, 3)⎟\n",
       "⎜⎢0  0  0   1  0 ⎥           ⎟\n",
       "⎜⎢               ⎥           ⎟\n",
       "⎝⎣0  0  0   0  0 ⎦           ⎠"
      ]
     },
     "execution_count": 11,
     "metadata": {
      "tags": []
     },
     "output_type": "execute_result"
    }
   ],
   "source": [
    "A_ref = A_sym.rref()\n",
    "A_ref"
   ]
  },
  {
   "cell_type": "code",
   "execution_count": 12,
   "metadata": {
    "colab": {
     "base_uri": "https://localhost:8080/",
     "height": 78
    },
    "id": "opQt1tZpWQOB",
    "outputId": "385e6b98-5003-476a-d61c-3d54c33f50d5"
   },
   "outputs": [
    {
     "data": {
      "text/html": [
       "<script src='https://cdnjs.cloudflare.com/ajax/libs/mathjax/2.7.3/latest.js?config=default'></script>"
      ],
      "text/plain": [
       "<IPython.core.display.HTML object>"
      ]
     },
     "metadata": {
      "tags": []
     },
     "output_type": "display_data"
    },
    {
     "data": {
      "text/latex": [
       "$$\\left[\\begin{matrix}0 & 3 & -6 & 6 & 4 & -5\\\\3 & -7 & 8 & -5 & 8 & 9\\\\3 & -9 & 12 & -9 & 6 & 15\\end{matrix}\\right]$$"
      ],
      "text/plain": [
       "⎡0  3   -6  6   4  -5⎤\n",
       "⎢                    ⎥\n",
       "⎢3  -7  8   -5  8  9 ⎥\n",
       "⎢                    ⎥\n",
       "⎣3  -9  12  -9  6  15⎦"
      ]
     },
     "execution_count": 12,
     "metadata": {
      "tags": []
     },
     "output_type": "execute_result"
    }
   ],
   "source": [
    "A = np.array([0,3,-6,6,4,-5,3,-7,8,-5,8,9,3,-9,12,-9,6,15])\n",
    "A = A.reshape((3,-1))\n",
    "A_sym = sympy.Matrix(A)\n",
    "A_sym"
   ]
  },
  {
   "cell_type": "code",
   "execution_count": 13,
   "metadata": {
    "colab": {
     "base_uri": "https://localhost:8080/",
     "height": 96
    },
    "id": "VdBFTFY6WQOG",
    "outputId": "bfb53b6d-5e0f-4e8e-a4d4-61490989e6a9"
   },
   "outputs": [
    {
     "name": "stdout",
     "output_type": "stream",
     "text": [
      "<class 'tuple'> <class 'sympy.matrices.dense.MutableDenseMatrix'> <class 'tuple'>\n"
     ]
    },
    {
     "data": {
      "text/html": [
       "<script src='https://cdnjs.cloudflare.com/ajax/libs/mathjax/2.7.3/latest.js?config=default'></script>"
      ],
      "text/plain": [
       "<IPython.core.display.HTML object>"
      ]
     },
     "metadata": {
      "tags": []
     },
     "output_type": "display_data"
    },
    {
     "data": {
      "text/latex": [
       "$$\\left ( \\left[\\begin{matrix}1 & 0 & -2 & 3 & 0 & -24\\\\0 & 1 & -2 & 2 & 0 & -7\\\\0 & 0 & 0 & 0 & 1 & 4\\end{matrix}\\right], \\quad \\left ( 0, \\quad 1, \\quad 4\\right )\\right )$$"
      ],
      "text/plain": [
       "⎛⎡1  0  -2  3  0  -24⎤           ⎞\n",
       "⎜⎢                   ⎥           ⎟\n",
       "⎜⎢0  1  -2  2  0  -7 ⎥, (0, 1, 4)⎟\n",
       "⎜⎢                   ⎥           ⎟\n",
       "⎝⎣0  0  0   0  1   4 ⎦           ⎠"
      ]
     },
     "execution_count": 13,
     "metadata": {
      "tags": []
     },
     "output_type": "execute_result"
    }
   ],
   "source": [
    "A_ref = A_sym.rref()\n",
    "print(type(A_ref),type(A_ref[0]),type(A_ref[1]))\n",
    "A_ref"
   ]
  },
  {
   "cell_type": "code",
   "execution_count": 14,
   "metadata": {
    "id": "8gtNu72yWQOI"
   },
   "outputs": [],
   "source": [
    "A = np.array([1,0,-5,0,1,1,0,0,0])\n",
    "B = np.array([1,4,0])"
   ]
  },
  {
   "cell_type": "code",
   "execution_count": 15,
   "metadata": {
    "colab": {
     "base_uri": "https://localhost:8080/",
     "height": 96
    },
    "id": "2L5588mDWQOJ",
    "outputId": "36438e76-d145-4568-d4f2-5354b2e88022"
   },
   "outputs": [
    {
     "name": "stdout",
     "output_type": "stream",
     "text": [
      "(3, 3)\n"
     ]
    },
    {
     "data": {
      "text/html": [
       "<script src='https://cdnjs.cloudflare.com/ajax/libs/mathjax/2.7.3/latest.js?config=default'></script>"
      ],
      "text/plain": [
       "<IPython.core.display.HTML object>"
      ]
     },
     "metadata": {
      "tags": []
     },
     "output_type": "display_data"
    },
    {
     "data": {
      "text/latex": [
       "$$\\left[\\begin{matrix}1 & 0 & -5\\\\0 & 1 & 1\\\\0 & 0 & 0\\end{matrix}\\right]$$"
      ],
      "text/plain": [
       "⎡1  0  -5⎤\n",
       "⎢        ⎥\n",
       "⎢0  1  1 ⎥\n",
       "⎢        ⎥\n",
       "⎣0  0  0 ⎦"
      ]
     },
     "execution_count": 15,
     "metadata": {
      "tags": []
     },
     "output_type": "execute_result"
    }
   ],
   "source": [
    "A = A.reshape((3,-1))\n",
    "A_sym = sympy.Matrix(A)\n",
    "print(A_sym.shape)\n",
    "A_sym"
   ]
  },
  {
   "cell_type": "code",
   "execution_count": 16,
   "metadata": {
    "colab": {
     "base_uri": "https://localhost:8080/",
     "height": 96
    },
    "id": "yA1VhR4AWQOO",
    "outputId": "cc0dc9e6-f007-469a-e9ba-0c84a6182ce3"
   },
   "outputs": [
    {
     "name": "stdout",
     "output_type": "stream",
     "text": [
      "(3, 1)\n"
     ]
    },
    {
     "data": {
      "text/html": [
       "<script src='https://cdnjs.cloudflare.com/ajax/libs/mathjax/2.7.3/latest.js?config=default'></script>"
      ],
      "text/plain": [
       "<IPython.core.display.HTML object>"
      ]
     },
     "metadata": {
      "tags": []
     },
     "output_type": "display_data"
    },
    {
     "data": {
      "text/latex": [
       "$$\\left[\\begin{matrix}1\\\\4\\\\0\\end{matrix}\\right]$$"
      ],
      "text/plain": [
       "⎡1⎤\n",
       "⎢ ⎥\n",
       "⎢4⎥\n",
       "⎢ ⎥\n",
       "⎣0⎦"
      ]
     },
     "execution_count": 16,
     "metadata": {
      "tags": []
     },
     "output_type": "execute_result"
    }
   ],
   "source": [
    "B_sym = sympy.Matrix(B)\n",
    "print(B_sym.shape)\n",
    "B_sym"
   ]
  },
  {
   "cell_type": "code",
   "execution_count": 17,
   "metadata": {
    "colab": {
     "base_uri": "https://localhost:8080/",
     "height": 78
    },
    "id": "QjriXqIXO9Nz",
    "outputId": "f55ddafd-4e38-4725-c067-d15baf0203c7"
   },
   "outputs": [
    {
     "data": {
      "text/html": [
       "<script src='https://cdnjs.cloudflare.com/ajax/libs/mathjax/2.7.3/latest.js?config=default'></script>"
      ],
      "text/plain": [
       "<IPython.core.display.HTML object>"
      ]
     },
     "metadata": {
      "tags": []
     },
     "output_type": "display_data"
    },
    {
     "data": {
      "text/latex": [
       "$$\\left[\\begin{matrix}1 & 0 & -5 & 1\\\\0 & 1 & 1 & 4\\\\0 & 0 & 0 & 0\\end{matrix}\\right]$$"
      ],
      "text/plain": [
       "⎡1  0  -5  1⎤\n",
       "⎢           ⎥\n",
       "⎢0  1  1   4⎥\n",
       "⎢           ⎥\n",
       "⎣0  0  0   0⎦"
      ]
     },
     "execution_count": 17,
     "metadata": {
      "tags": []
     },
     "output_type": "execute_result"
    }
   ],
   "source": [
    "Augmented_M = A_sym.row_join(B_sym)\n",
    "Augmented_M"
   ]
  },
  {
   "cell_type": "code",
   "execution_count": 18,
   "metadata": {
    "colab": {
     "base_uri": "https://localhost:8080/",
     "height": 78
    },
    "id": "Mcpz1sQGQZqz",
    "outputId": "c79922e0-bdef-4bc4-d75e-1bfaf75b21bd"
   },
   "outputs": [
    {
     "data": {
      "text/html": [
       "<script src='https://cdnjs.cloudflare.com/ajax/libs/mathjax/2.7.3/latest.js?config=default'></script>"
      ],
      "text/plain": [
       "<IPython.core.display.HTML object>"
      ]
     },
     "metadata": {
      "tags": []
     },
     "output_type": "display_data"
    },
    {
     "data": {
      "text/latex": [
       "$$\\left ( \\left[\\begin{matrix}1 & 0 & -5 & 1\\\\0 & 1 & 1 & 4\\\\0 & 0 & 0 & 0\\end{matrix}\\right], \\quad \\left ( 0, \\quad 1\\right )\\right )$$"
      ],
      "text/plain": [
       "⎛⎡1  0  -5  1⎤        ⎞\n",
       "⎜⎢           ⎥        ⎟\n",
       "⎜⎢0  1  1   4⎥, (0, 1)⎟\n",
       "⎜⎢           ⎥        ⎟\n",
       "⎝⎣0  0  0   0⎦        ⎠"
      ]
     },
     "execution_count": 18,
     "metadata": {
      "tags": []
     },
     "output_type": "execute_result"
    }
   ],
   "source": [
    "Augmented_M.rref()"
   ]
  },
  {
   "cell_type": "code",
   "execution_count": 19,
   "metadata": {
    "colab": {
     "base_uri": "https://localhost:8080/",
     "height": 34
    },
    "id": "kJ81lZGnWQOQ",
    "outputId": "78f950cf-7a90-4be6-f178-ef4a98d0dde8"
   },
   "outputs": [
    {
     "name": "stdout",
     "output_type": "stream",
     "text": [
      "Solutin is either infinitely muptiple or none\n"
     ]
    }
   ],
   "source": [
    "# determinant로 inverse가 있는지 없는지 체크\n",
    "if 0 != np.linalg.det(A):\n",
    "    np.linalg.solve(A,B)    #LU로 푸는게 default\n",
    "else :\n",
    "    print('Solutin is either infinitely muptiple or none')"
   ]
  },
  {
   "cell_type": "markdown",
   "metadata": {
    "id": "_EfgkWNKWQOR"
   },
   "source": [
    "# Variety Form of Matrix\n",
    "\n",
    "$A\\in \\mathbb{R}^{n \\times n}$ : **Square** matrix\n",
    "* #_of_rows = #_or_columns\n",
    "* e.g. $A=\\begin{bmatrix}1&2\\\\3&4\\end{bmatrix}$\n",
    "\n",
    "$B\\in \\mathbb{R}^{m \\times n}$ : **Rectangular** matrix\n",
    "* $ \\text{#_of_rows} = \\text{#_or_columns}$ OR $ \\text{#_of_rows} \\ne \\text{#_or_columns}$\n",
    "  * SquareMatrix $\\subset$ RectangularMatrix\n",
    "* e.g. $B=\\begin{bmatrix}1&2\\\\3&4\\\\5&6\\end{bmatrix}$\n",
    "\n",
    "$B^T$ : **Transpose** of matrix $B$ : mirroring across the main diagonal\n",
    "* e.g. $B=\\begin{bmatrix}1&2\\\\3&4\\\\5&6\\end{bmatrix}$ , $B^T=\\begin{bmatrix}1&3&5\\\\2&4&6\\end{bmatrix}$\n",
    "\n",
    "$B_{i,j}$ : $(i,j)$th component of $B$\n",
    "* e.g. $B_{2,1}=3$\n",
    "\n",
    "$B_{i,:}$ : $(i)$th row of $B$\n",
    "* e.g. $B_{2,:}=\\begin{bmatrix}3&4\\end{bmatrix}$\n",
    "\n",
    "$B_{:,j}$ : $(j)$th column of $B$\n",
    "* e.g. $B_{:,2}=\\begin{bmatrix}2\\\\4\\\\6\\end{bmatrix}$"
   ]
  },
  {
   "cell_type": "code",
   "execution_count": 20,
   "metadata": {
    "colab": {
     "base_uri": "https://localhost:8080/",
     "height": 127
    },
    "id": "ZcwvHdxgWQOS",
    "outputId": "b7332384-7efa-4580-e4eb-fb1c25f5537e",
    "scrolled": true
   },
   "outputs": [
    {
     "name": "stdout",
     "output_type": "stream",
     "text": [
      "square matrix\n",
      "[[1 2]\n",
      " [3 4]]\n",
      "shape: (2, 2)\n"
     ]
    },
    {
     "data": {
      "text/html": [
       "<script src='https://cdnjs.cloudflare.com/ajax/libs/mathjax/2.7.3/latest.js?config=default'></script>"
      ],
      "text/plain": [
       "<IPython.core.display.HTML object>"
      ]
     },
     "metadata": {
      "tags": []
     },
     "output_type": "display_data"
    },
    {
     "data": {
      "text/latex": [
       "$$\\left[\\begin{matrix}1 & 2\\\\3 & 4\\end{matrix}\\right]$$"
      ],
      "text/plain": [
       "⎡1  2⎤\n",
       "⎢    ⎥\n",
       "⎣3  4⎦"
      ]
     },
     "execution_count": 20,
     "metadata": {
      "tags": []
     },
     "output_type": "execute_result"
    }
   ],
   "source": [
    "# creating a square matrix\n",
    "A=np.array([[1,2],[3,4]])\n",
    "print ('square matrix')\n",
    "print (A)\n",
    "print ('shape:', A.shape)\n",
    "sympy.Matrix(A)"
   ]
  },
  {
   "cell_type": "code",
   "execution_count": 21,
   "metadata": {
    "colab": {
     "base_uri": "https://localhost:8080/",
     "height": 165
    },
    "id": "hMBEWvYMWQOT",
    "outputId": "a34e2798-b47f-464f-8d15-435d3f4010e2",
    "scrolled": true
   },
   "outputs": [
    {
     "name": "stdout",
     "output_type": "stream",
     "text": [
      "rectangular matrix\n",
      "[[1 2]\n",
      " [3 4]\n",
      " [5 6]]\n",
      "shape: (3, 2)\n"
     ]
    },
    {
     "data": {
      "text/html": [
       "<script src='https://cdnjs.cloudflare.com/ajax/libs/mathjax/2.7.3/latest.js?config=default'></script>"
      ],
      "text/plain": [
       "<IPython.core.display.HTML object>"
      ]
     },
     "metadata": {
      "tags": []
     },
     "output_type": "display_data"
    },
    {
     "data": {
      "text/latex": [
       "$$\\left[\\begin{matrix}1 & 2\\\\3 & 4\\\\5 & 6\\end{matrix}\\right]$$"
      ],
      "text/plain": [
       "⎡1  2⎤\n",
       "⎢    ⎥\n",
       "⎢3  4⎥\n",
       "⎢    ⎥\n",
       "⎣5  6⎦"
      ]
     },
     "execution_count": 21,
     "metadata": {
      "tags": []
     },
     "output_type": "execute_result"
    }
   ],
   "source": [
    "# creating a rectangular matrix\n",
    "B=np.array([[1,2],[3,4],[5,6]])\n",
    "print ('rectangular matrix')\n",
    "print (B)\n",
    "print ('shape:', B.shape)\n",
    "sympy.Matrix(B)"
   ]
  },
  {
   "cell_type": "code",
   "execution_count": 22,
   "metadata": {
    "colab": {
     "base_uri": "https://localhost:8080/",
     "height": 109
    },
    "id": "iRP2r6UoWQOU",
    "outputId": "e313b608-931a-4279-ffbe-ab49738484a5",
    "scrolled": true
   },
   "outputs": [
    {
     "name": "stdout",
     "output_type": "stream",
     "text": [
      "transpose of a matrix\n",
      "[[1 3 5]\n",
      " [2 4 6]]\n"
     ]
    },
    {
     "data": {
      "text/html": [
       "<script src='https://cdnjs.cloudflare.com/ajax/libs/mathjax/2.7.3/latest.js?config=default'></script>"
      ],
      "text/plain": [
       "<IPython.core.display.HTML object>"
      ]
     },
     "metadata": {
      "tags": []
     },
     "output_type": "display_data"
    },
    {
     "data": {
      "text/latex": [
       "$$\\left[\\begin{matrix}1 & 3 & 5\\\\2 & 4 & 6\\end{matrix}\\right]$$"
      ],
      "text/plain": [
       "⎡1  3  5⎤\n",
       "⎢       ⎥\n",
       "⎣2  4  6⎦"
      ]
     },
     "execution_count": 22,
     "metadata": {
      "tags": []
     },
     "output_type": "execute_result"
    }
   ],
   "source": [
    "# transpose of a matrix\n",
    "C= B.T\n",
    "print ('transpose of a matrix')\n",
    "print (C)\n",
    "sympy.Matrix(C)"
   ]
  },
  {
   "cell_type": "code",
   "execution_count": 24,
   "metadata": {
    "colab": {
     "base_uri": "https://localhost:8080/",
     "height": 113
    },
    "id": "ATNRGOREWQOV",
    "outputId": "93f56d5d-3f7b-4060-b040-6038847b3dc1",
    "scrolled": true
   },
   "outputs": [
    {
     "name": "stdout",
     "output_type": "stream",
     "text": [
      "B[2,1]= 6\n",
      "6\n"
     ]
    },
    {
     "data": {
      "text/html": [
       "<script src='https://cdnjs.cloudflare.com/ajax/libs/mathjax/2.7.3/latest.js?config=default'></script>"
      ],
      "text/plain": [
       "<IPython.core.display.HTML object>"
      ]
     },
     "metadata": {
      "tags": []
     },
     "output_type": "display_data"
    },
    {
     "data": {
      "text/latex": [
       "$$\\left[\\begin{matrix}1 & 2\\\\3 & 4\\\\5 & 6\\end{matrix}\\right]$$"
      ],
      "text/plain": [
       "⎡1  2⎤\n",
       "⎢    ⎥\n",
       "⎢3  4⎥\n",
       "⎢    ⎥\n",
       "⎣5  6⎦"
      ]
     },
     "execution_count": 24,
     "metadata": {
      "tags": []
     },
     "output_type": "execute_result"
    }
   ],
   "source": [
    "# component of matrix\n",
    "c = B[2,1]    # index가 0부터 시작한다.\n",
    "print ('B[2,1]=',c)\n",
    "B_sym = sympy.Matrix(B)\n",
    "print(B_sym[2,1]) #0부터 시작하는 걸 잊지 말 것!\n",
    "B_sym"
   ]
  },
  {
   "cell_type": "code",
   "execution_count": 25,
   "metadata": {
    "colab": {
     "base_uri": "https://localhost:8080/",
     "height": 55
    },
    "id": "YycjsYowWQOW",
    "outputId": "3dffc5fb-65f4-435a-d7bc-c99fcf3c0b17",
    "scrolled": true
   },
   "outputs": [
    {
     "name": "stdout",
     "output_type": "stream",
     "text": [
      "B[1,:]= [3 4]\n"
     ]
    },
    {
     "data": {
      "text/html": [
       "<script src='https://cdnjs.cloudflare.com/ajax/libs/mathjax/2.7.3/latest.js?config=default'></script>"
      ],
      "text/plain": [
       "<IPython.core.display.HTML object>"
      ]
     },
     "metadata": {
      "tags": []
     },
     "output_type": "display_data"
    },
    {
     "data": {
      "text/latex": [
       "$$\\left[\\begin{matrix}3 & 4\\end{matrix}\\right]$$"
      ],
      "text/plain": [
       "[3  4]"
      ]
     },
     "execution_count": 25,
     "metadata": {
      "tags": []
     },
     "output_type": "execute_result"
    }
   ],
   "source": [
    "# i-th row of matrix\n",
    "B2 = B[1,:]\n",
    "print ('B[1,:]=',B2)\n",
    "B_sym[1,:]"
   ]
  },
  {
   "cell_type": "code",
   "execution_count": 26,
   "metadata": {
    "colab": {
     "base_uri": "https://localhost:8080/",
     "height": 71
    },
    "id": "W-SPP8nUWQOY",
    "outputId": "2001ec08-602e-4e38-8091-6e4ef4a79df6",
    "scrolled": true
   },
   "outputs": [
    {
     "name": "stdout",
     "output_type": "stream",
     "text": [
      "B[1]= [3 4]\n",
      "note that the difference between sympy matrix!\n"
     ]
    },
    {
     "data": {
      "text/html": [
       "<script src='https://cdnjs.cloudflare.com/ajax/libs/mathjax/2.7.3/latest.js?config=default'></script>"
      ],
      "text/plain": [
       "<IPython.core.display.HTML object>"
      ]
     },
     "metadata": {
      "tags": []
     },
     "output_type": "display_data"
    },
    {
     "data": {
      "text/latex": [
       "$$2$$"
      ],
      "text/plain": [
       "2"
      ]
     },
     "execution_count": 26,
     "metadata": {
      "tags": []
     },
     "output_type": "execute_result"
    }
   ],
   "source": [
    "B3 = B[1] # another method to get i-th row of matrix\n",
    "print ('B[1]=',B3)\n",
    "print ('note that the difference between sympy matrix!')\n",
    "B_sym[1]"
   ]
  },
  {
   "cell_type": "code",
   "execution_count": 27,
   "metadata": {
    "colab": {
     "base_uri": "https://localhost:8080/",
     "height": 96
    },
    "id": "nDJylZdmWQOY",
    "outputId": "fce2076c-6883-4678-dd15-97bc07c33f33",
    "scrolled": true
   },
   "outputs": [
    {
     "name": "stdout",
     "output_type": "stream",
     "text": [
      "B[:,1]= [2 4 6]\n"
     ]
    },
    {
     "data": {
      "text/html": [
       "<script src='https://cdnjs.cloudflare.com/ajax/libs/mathjax/2.7.3/latest.js?config=default'></script>"
      ],
      "text/plain": [
       "<IPython.core.display.HTML object>"
      ]
     },
     "metadata": {
      "tags": []
     },
     "output_type": "display_data"
    },
    {
     "data": {
      "text/latex": [
       "$$\\left[\\begin{matrix}2\\\\4\\\\6\\end{matrix}\\right]$$"
      ],
      "text/plain": [
       "⎡2⎤\n",
       "⎢ ⎥\n",
       "⎢4⎥\n",
       "⎢ ⎥\n",
       "⎣6⎦"
      ]
     },
     "execution_count": 27,
     "metadata": {
      "tags": []
     },
     "output_type": "execute_result"
    }
   ],
   "source": [
    "# i-th column of matrix\n",
    "B3 = B[:,1]\n",
    "print ('B[:,1]=',B3)\n",
    "sympy.Matrix(B3)"
   ]
  },
  {
   "cell_type": "markdown",
   "metadata": {
    "id": "72LWetecWQOa"
   },
   "source": [
    "# Vector \n",
    "\n",
    "In simplicity, **Vector** is an ordered list of numbers.\n",
    "* one-dimentional array.\n",
    "* for more detail, refer the vector space (Ch4)\n",
    "\n",
    "In Numpy, **Vector** is a simple 1-D array!. "
   ]
  },
  {
   "cell_type": "code",
   "execution_count": 28,
   "metadata": {
    "colab": {
     "base_uri": "https://localhost:8080/",
     "height": 34
    },
    "id": "XzqtmypzWQOa",
    "outputId": "10d19cfd-eefe-458b-e3ca-77a70a293b0f"
   },
   "outputs": [
    {
     "name": "stdout",
     "output_type": "stream",
     "text": [
      "(3,)\n"
     ]
    }
   ],
   "source": [
    "# 1 dimensional array : vector.\n",
    "# column vector\n",
    "c = np.array([1,2,3])\n",
    "print(c.shape)"
   ]
  },
  {
   "cell_type": "markdown",
   "metadata": {
    "id": "mYuRaURlZS2-"
   },
   "source": [
    "In ***sympy***, **Vector** is basically a **column vector**."
   ]
  },
  {
   "cell_type": "code",
   "execution_count": 30,
   "metadata": {
    "colab": {
     "base_uri": "https://localhost:8080/",
     "height": 96
    },
    "id": "n3higLgtYixy",
    "outputId": "963cca6e-88ed-4d20-e17b-8c1806593c52"
   },
   "outputs": [
    {
     "name": "stdout",
     "output_type": "stream",
     "text": [
      "Matrix([[1], [2], [3]])\n"
     ]
    },
    {
     "data": {
      "text/html": [
       "<script src='https://cdnjs.cloudflare.com/ajax/libs/mathjax/2.7.3/latest.js?config=default'></script>"
      ],
      "text/plain": [
       "<IPython.core.display.HTML object>"
      ]
     },
     "metadata": {
      "tags": []
     },
     "output_type": "display_data"
    },
    {
     "data": {
      "text/latex": [
       "$$\\left[\\begin{matrix}1\\\\2\\\\3\\end{matrix}\\right]$$"
      ],
      "text/plain": [
       "⎡1⎤\n",
       "⎢ ⎥\n",
       "⎢2⎥\n",
       "⎢ ⎥\n",
       "⎣3⎦"
      ]
     },
     "execution_count": 30,
     "metadata": {
      "tags": []
     },
     "output_type": "execute_result"
    }
   ],
   "source": [
    "# NUMPY는 column vector인지 row vector인지 모르지만, sympy는 default는 column vector이다.\n",
    "c_sym = sympy.Matrix(c)\n",
    "print(c_sym)\n",
    "c_sym"
   ]
  },
  {
   "cell_type": "markdown",
   "metadata": {
    "id": "e6BIMY5MWQOb"
   },
   "source": [
    "# Access the element of vector\n",
    "\n",
    "* We can access the element of vector by **index**."
   ]
  },
  {
   "cell_type": "code",
   "execution_count": 31,
   "metadata": {
    "colab": {
     "base_uri": "https://localhost:8080/",
     "height": 120
    },
    "id": "SSuOI3E8WQOb",
    "outputId": "df278414-9781-415d-e9ed-9a3aaffdabf8"
   },
   "outputs": [
    {
     "name": "stdout",
     "output_type": "stream",
     "text": [
      "c[0]= 1\n",
      "c[1]= 2\n",
      "=====================\n",
      "c[0]=1\n",
      "c[1]=2\n",
      "c[2]=3\n"
     ]
    }
   ],
   "source": [
    "#----------------------------\n",
    "# obtaining a particular entry\n",
    "print ('c[0]=',c[0])\n",
    "print ('c[1]=',c[1])\n",
    "\n",
    "print('=====================')\n",
    "for idx,v in enumerate(c):\n",
    "    print('c[{}]={}'.format(idx,v))"
   ]
  },
  {
   "cell_type": "markdown",
   "metadata": {
    "id": "U4-nQ1KNWQOc"
   },
   "source": [
    "# Column vector\n",
    "\n",
    "* Numpy and Matlab is based on the column vector. \n",
    "  * However, C based raw implementation commonly used the row vector. \n",
    "* We also used the column vector to represent the vector.\n",
    "\n",
    "Follwing script show the row vector in Numpy:"
   ]
  },
  {
   "cell_type": "code",
   "execution_count": 32,
   "metadata": {
    "colab": {
     "base_uri": "https://localhost:8080/",
     "height": 51
    },
    "id": "CSh50bjPWQOc",
    "outputId": "f6b62882-80db-4b64-9fe8-2f547afa6c2e"
   },
   "outputs": [
    {
     "name": "stdout",
     "output_type": "stream",
     "text": [
      "(1, 3)\n",
      "2\n"
     ]
    }
   ],
   "source": [
    "# Row vector 만들기\n",
    "r = np.array([ [1,2,3] ])\n",
    "print (r.shape)\n",
    "\n",
    "# obtaining a particular entry\n",
    "print (r[0,1])"
   ]
  },
  {
   "cell_type": "code",
   "execution_count": null,
   "metadata": {
    "colab": {
     "base_uri": "https://localhost:8080/",
     "height": 154
    },
    "id": "GhlqRdaQWQOd",
    "outputId": "88dbe627-6b54-4503-9d8d-6a68108a8180"
   },
   "outputs": [
    {
     "name": "stdout",
     "output_type": "stream",
     "text": [
      "[[0. 0.]\n",
      " [0. 0.]]\n",
      "[[1. 1.]\n",
      " [1. 1.]]\n",
      "[[7 7]\n",
      " [7 7]]\n",
      "[[0.19863324 0.25229075]\n",
      " [0.90554406 0.7346752 ]]\n"
     ]
    }
   ],
   "source": [
    "# creating a matrix with all zeros\n",
    "a = np.zeros((2,2))\n",
    "print (a)\n",
    "\n",
    "# creating a matrix with all ones\n",
    "b = np.ones((2,2))\n",
    "print (b)\n",
    "             \n",
    "# creating a matrix filled with the same constant\n",
    "c = np.full((2,2), 7)\n",
    "print (c)\n",
    "             \n",
    "# creating a matrix with random values\n",
    "d = np.random.random((2,2))\n",
    "print (d)"
   ]
  },
  {
   "cell_type": "markdown",
   "metadata": {
    "id": "L8XwPGNJWQOe"
   },
   "source": [
    "## Vector/Matrix Additions and Multiplications\n",
    "\n",
    "$C=A+B \\textbf{c}=\\textbf{a}+\\textbf{b}$ : Element-wise **addition**\n",
    "* i.e., $C_{i,j} = A_{i,j}+B_{i,j}$\n",
    "* $A,B,C$ should have the same size, i.e., $A,B,C \\in \\mathbb{R}^{m\\times n}$"
   ]
  },
  {
   "cell_type": "code",
   "execution_count": null,
   "metadata": {
    "colab": {
     "base_uri": "https://localhost:8080/",
     "height": 95
    },
    "id": "3KFEF7BCWQOe",
    "outputId": "661a030f-9793-4e8f-bc06-2e4ea399862e"
   },
   "outputs": [
    {
     "name": "stdout",
     "output_type": "stream",
     "text": [
      "v1+v2=\n"
     ]
    },
    {
     "data": {
      "text/html": [
       "<script src='https://cdnjs.cloudflare.com/ajax/libs/mathjax/2.7.3/latest.js?config=default'></script>"
      ],
      "text/plain": [
       "<IPython.core.display.HTML object>"
      ]
     },
     "metadata": {
      "tags": []
     },
     "output_type": "display_data"
    },
    {
     "data": {
      "text/latex": [
       "$$\\left[\\begin{matrix}5\\\\7\\\\9\\end{matrix}\\right]$$"
      ],
      "text/plain": [
       "⎡5⎤\n",
       "⎢ ⎥\n",
       "⎢7⎥\n",
       "⎢ ⎥\n",
       "⎣9⎦"
      ]
     },
     "execution_count": 54,
     "metadata": {
      "tags": []
     },
     "output_type": "execute_result"
    }
   ],
   "source": [
    "v1 = np.array([1,2,3])\n",
    "v2 = np.array([4,5,6])\n",
    "v3 = v1+v2\n",
    "print('v1+v2=')\n",
    "sympy.Matrix(v3)"
   ]
  },
  {
   "cell_type": "code",
   "execution_count": null,
   "metadata": {
    "colab": {
     "base_uri": "https://localhost:8080/",
     "height": 75
    },
    "id": "hbKX2Cn9WQOf",
    "outputId": "aef1a9bc-4adf-4885-aa2f-c3e1aa027a17"
   },
   "outputs": [
    {
     "name": "stdout",
     "output_type": "stream",
     "text": [
      "A+B=\n"
     ]
    },
    {
     "data": {
      "text/html": [
       "<script src='https://cdnjs.cloudflare.com/ajax/libs/mathjax/2.7.3/latest.js?config=default'></script>"
      ],
      "text/plain": [
       "<IPython.core.display.HTML object>"
      ]
     },
     "metadata": {
      "tags": []
     },
     "output_type": "display_data"
    },
    {
     "data": {
      "text/latex": [
       "$$\\left[\\begin{matrix}8 & 10 & 12\\\\14 & 16 & 18\\end{matrix}\\right]$$"
      ],
      "text/plain": [
       "⎡8   10  12⎤\n",
       "⎢          ⎥\n",
       "⎣14  16  18⎦"
      ]
     },
     "execution_count": 55,
     "metadata": {
      "tags": []
     },
     "output_type": "execute_result"
    }
   ],
   "source": [
    "A = np.array([[1,2,3],[4,5,6]])\n",
    "B = np.array([[7,8,9],[10,11,12]])\n",
    "C = A+B\n",
    "print('A+B=')\n",
    "sympy.Matrix(C)"
   ]
  },
  {
   "cell_type": "markdown",
   "metadata": {
    "id": "E_HnEoZ_WQOf"
   },
   "source": [
    "$c\\textbf{a}, cA$ : **Scalar multiple** of vector or matrix\n",
    "* e.g., $3\\begin{bmatrix}1\\\\2\\\\3\\end{bmatrix}=\\begin{bmatrix}3\\\\6\\\\9\\end{bmatrix}$, $2\\begin{bmatrix}1&2\\\\3&4\\\\5&6\\end{bmatrix}=\\begin{bmatrix}2&4\\\\6&8\\\\10&12\\end{bmatrix}$"
   ]
  },
  {
   "cell_type": "code",
   "execution_count": null,
   "metadata": {
    "colab": {
     "base_uri": "https://localhost:8080/",
     "height": 95
    },
    "id": "DLCWCeacWQOg",
    "outputId": "73e03930-6e03-4992-815b-c532e2c045c3"
   },
   "outputs": [
    {
     "name": "stdout",
     "output_type": "stream",
     "text": [
      "cA=\n"
     ]
    },
    {
     "data": {
      "text/html": [
       "<script src='https://cdnjs.cloudflare.com/ajax/libs/mathjax/2.7.3/latest.js?config=default'></script>"
      ],
      "text/plain": [
       "<IPython.core.display.HTML object>"
      ]
     },
     "metadata": {
      "tags": []
     },
     "output_type": "display_data"
    },
    {
     "data": {
      "text/latex": [
       "$$\\left[\\begin{matrix}3\\\\6\\\\9\\end{matrix}\\right]$$"
      ],
      "text/plain": [
       "⎡3⎤\n",
       "⎢ ⎥\n",
       "⎢6⎥\n",
       "⎢ ⎥\n",
       "⎣9⎦"
      ]
     },
     "execution_count": 56,
     "metadata": {
      "tags": []
     },
     "output_type": "execute_result"
    }
   ],
   "source": [
    "A = np.array([1,2,3])\n",
    "c = 3\n",
    "ans = c*A\n",
    "print('cA=')\n",
    "sympy.Matrix(ans)"
   ]
  },
  {
   "cell_type": "code",
   "execution_count": null,
   "metadata": {
    "colab": {
     "base_uri": "https://localhost:8080/",
     "height": 95
    },
    "id": "jqXJjM_7WQOg",
    "outputId": "033c31b1-2db8-4057-95b2-a61137a3fc3e"
   },
   "outputs": [
    {
     "name": "stdout",
     "output_type": "stream",
     "text": [
      "cA=\n"
     ]
    },
    {
     "data": {
      "text/html": [
       "<script src='https://cdnjs.cloudflare.com/ajax/libs/mathjax/2.7.3/latest.js?config=default'></script>"
      ],
      "text/plain": [
       "<IPython.core.display.HTML object>"
      ]
     },
     "metadata": {
      "tags": []
     },
     "output_type": "display_data"
    },
    {
     "data": {
      "text/latex": [
       "$$\\left[\\begin{matrix}2 & 4\\\\6 & 8\\\\10 & 12\\end{matrix}\\right]$$"
      ],
      "text/plain": [
       "⎡2   4 ⎤\n",
       "⎢      ⎥\n",
       "⎢6   8 ⎥\n",
       "⎢      ⎥\n",
       "⎣10  12⎦"
      ]
     },
     "execution_count": 57,
     "metadata": {
      "tags": []
     },
     "output_type": "execute_result"
    }
   ],
   "source": [
    "A = np.array([[1,2],[3,4],[5,6]])\n",
    "c = 2\n",
    "ans = c*A\n",
    "print('cA=')\n",
    "sympy.Matrix(ans)"
   ]
  },
  {
   "cell_type": "markdown",
   "metadata": {
    "id": "w8RoNJs2WQOh"
   },
   "source": [
    "$C=AB$ : Matrix-matrix multiplication\n",
    "* i.e., $C_{i,j}=\\sum_k A_{i,k}B_{k,j}$\n",
    "* e.g.\n",
    "  * $\\begin{bmatrix}1&6\\\\3&4\\\\5&2\\end{bmatrix}\\begin{bmatrix}1&-1\\\\2&1\\end{bmatrix}=\\begin{bmatrix}13&5\\\\11&1\\\\9&-3\\end{bmatrix}$\n",
    "    * Size : $(3\\times 2)(2 \\times 2) = (3\\times 2)$\n",
    "  * $\\begin{bmatrix}3&2&1\\end{bmatrix}\\begin{bmatrix}1\\\\3\\\\5\\end{bmatrix}=\\begin{bmatrix}14\\end{bmatrix}=14$ ,which is called inner product (or dot product, scalar product)\n",
    "    * Size : $(1\\times 3)(3 \\times 1) = (1\\times 1)$\n",
    "  * $\\begin{bmatrix}1\\\\3\\\\5\\end{bmatrix}\\begin{bmatrix}1&2\\end{bmatrix}=\\begin{bmatrix}1&2\\\\3&6\\\\5&10\\end{bmatrix}$ ,which is called outer product\n",
    "    * Size : $(3\\times 1)(1 \\times 2) = (2\\times 2)$"
   ]
  },
  {
   "cell_type": "code",
   "execution_count": null,
   "metadata": {
    "colab": {
     "base_uri": "https://localhost:8080/",
     "height": 78
    },
    "id": "Nam6DUUqWQOh",
    "outputId": "6ecea5f6-7f9a-4343-e7e1-4210daed6ade"
   },
   "outputs": [
    {
     "data": {
      "text/latex": [
       "$$\\left[\\begin{matrix}1 & 6\\\\3 & 4\\\\5 & 2\\end{matrix}\\right]\\left[\\begin{matrix}1 & -1\\\\2 & 1\\end{matrix}\\right]=\\left[\\begin{matrix}13 & 5\\\\11 & 1\\\\9 & -3\\end{matrix}\\right]$$"
      ],
      "text/plain": [
       "<IPython.core.display.Math object>"
      ]
     },
     "execution_count": 77,
     "metadata": {
      "tags": []
     },
     "output_type": "execute_result"
    }
   ],
   "source": [
    "from IPython.display import display, Math\n",
    "A = np.array([[1,6],[3,4],[5,2]])\n",
    "B = np.array([[1,-1],[2,1]])\n",
    "C1 = np.matmul(A,B)\n",
    "\n",
    "#from sympy import init_printing\n",
    "C1 = sympy.Matrix(C1)\n",
    "\n",
    "Math(sympy.latex(sympy.Matrix(A))+\n",
    "     sympy.latex(sympy.Matrix(B))+\n",
    "     '='+sympy.latex(C1))"
   ]
  },
  {
   "cell_type": "code",
   "execution_count": null,
   "metadata": {
    "colab": {
     "base_uri": "https://localhost:8080/",
     "height": 78
    },
    "id": "xbj162TLWQOi",
    "outputId": "74800949-d1b6-44ea-f5a7-606171b949ef"
   },
   "outputs": [
    {
     "data": {
      "text/latex": [
       "$$\\left[\\begin{matrix}1 & 6\\\\3 & 4\\\\5 & 2\\end{matrix}\\right]\\left[\\begin{matrix}1 & -1\\\\2 & 1\\end{matrix}\\right]=\\left[\\begin{matrix}13 & 5\\\\11 & 1\\\\9 & -3\\end{matrix}\\right]$$"
      ],
      "text/plain": [
       "<IPython.core.display.Math object>"
      ]
     },
     "execution_count": 80,
     "metadata": {
      "tags": []
     },
     "output_type": "execute_result"
    }
   ],
   "source": [
    "C2 = np.dot(A,B)\n",
    "Math(sympy.latex(sympy.Matrix(A))+\n",
    "     sympy.latex(sympy.Matrix(B))+\n",
    "     '='+\n",
    "     sympy.latex(sympy.Matrix(C2)))"
   ]
  },
  {
   "cell_type": "code",
   "execution_count": null,
   "metadata": {
    "colab": {
     "base_uri": "https://localhost:8080/",
     "height": 78
    },
    "id": "EMYTb4-6WQOj",
    "outputId": "c8f94e7a-e7ca-436e-ef19-a1b224773408"
   },
   "outputs": [
    {
     "data": {
      "text/latex": [
       "$$\\left[\\begin{matrix}1 & 6\\\\3 & 4\\\\5 & 2\\end{matrix}\\right]\\left[\\begin{matrix}1 & -1\\\\2 & 1\\end{matrix}\\right]=\\left[\\begin{matrix}13 & 5\\\\11 & 1\\\\9 & -3\\end{matrix}\\right]$$"
      ],
      "text/plain": [
       "<IPython.core.display.Math object>"
      ]
     },
     "execution_count": 82,
     "metadata": {
      "tags": []
     },
     "output_type": "execute_result"
    }
   ],
   "source": [
    "C3 = sympy.Matrix(A@B)\n",
    "Math(sympy.latex(sympy.Matrix(A))+\n",
    "     sympy.latex(sympy.Matrix(B))+\n",
    "     '='+\n",
    "     sympy.latex(C3))"
   ]
  },
  {
   "cell_type": "code",
   "execution_count": null,
   "metadata": {
    "colab": {
     "base_uri": "https://localhost:8080/",
     "height": 250
    },
    "id": "SX4dBKxrWQOk",
    "outputId": "961a7bf6-8dba-434c-a830-b74aaca4ca22"
   },
   "outputs": [
    {
     "ename": "ValueError",
     "evalue": "ignored",
     "output_type": "error",
     "traceback": [
      "\u001b[0;31m---------------------------------------------------------------------------\u001b[0m",
      "\u001b[0;31mValueError\u001b[0m                                Traceback (most recent call last)",
      "\u001b[0;32m<ipython-input-83-0aefda4bc99c>\u001b[0m in \u001b[0;36m<module>\u001b[0;34m()\u001b[0m\n\u001b[1;32m      1\u001b[0m \u001b[0;31m# error !! why?\u001b[0m\u001b[0;34m\u001b[0m\u001b[0;34m\u001b[0m\u001b[0;34m\u001b[0m\u001b[0m\n\u001b[1;32m      2\u001b[0m \u001b[0;31m# In the case of matrix production, sizes should be matched.\u001b[0m\u001b[0;34m\u001b[0m\u001b[0;34m\u001b[0m\u001b[0;34m\u001b[0m\u001b[0m\n\u001b[0;32m----> 3\u001b[0;31m \u001b[0mC5\u001b[0m \u001b[0;34m=\u001b[0m \u001b[0mnp\u001b[0m\u001b[0;34m.\u001b[0m\u001b[0mdot\u001b[0m\u001b[0;34m(\u001b[0m\u001b[0mB\u001b[0m\u001b[0;34m,\u001b[0m\u001b[0mA\u001b[0m\u001b[0;34m)\u001b[0m\u001b[0;34m\u001b[0m\u001b[0;34m\u001b[0m\u001b[0m\n\u001b[0m\u001b[1;32m      4\u001b[0m \u001b[0mprint\u001b[0m\u001b[0;34m(\u001b[0m\u001b[0mC4\u001b[0m\u001b[0;34m)\u001b[0m\u001b[0;34m\u001b[0m\u001b[0;34m\u001b[0m\u001b[0m\n",
      "\u001b[0;32m<__array_function__ internals>\u001b[0m in \u001b[0;36mdot\u001b[0;34m(*args, **kwargs)\u001b[0m\n",
      "\u001b[0;31mValueError\u001b[0m: shapes (2,2) and (3,2) not aligned: 2 (dim 1) != 3 (dim 0)"
     ]
    }
   ],
   "source": [
    "# error !! why?\n",
    "# In the case of matrix production, sizes should be matched.\n",
    "C5 = np.dot(B,A)\n",
    "print(C4)"
   ]
  },
  {
   "cell_type": "markdown",
   "metadata": {
    "id": "AsN0ULiIWQOk"
   },
   "source": [
    "## Inner prodcut\n",
    "\n",
    "$$\n",
    "\\begin{align}\n",
    "\\textbf{a}\\cdot\\textbf{b} &= \\begin{bmatrix}1 \\\\ 2\\end{bmatrix} \\cdot \\begin{bmatrix}3 \\\\ 4\\end{bmatrix} \\\\\n",
    "&= \\begin{bmatrix}1 & 2\\end{bmatrix} \\begin{bmatrix}3 \\\\ 4\\end{bmatrix} \\\\\n",
    "&= |\\textbf{a}||\\textbf{b}| \\cos {\\theta} \\\\\n",
    "&= \\sqrt{1^2+2^2}\\sqrt{3^2+4^2} \\cos{\\theta} \\\\\n",
    "&= 3+8 \\\\\n",
    "&=11\n",
    "\\end{align}\n",
    "$$\n",
    "\n",
    "* $\\cos{\\theta}$를 이용하여 vector간의 이루는 각도를 구하기도 하며, ML등의 경우에 vector간의 유사성을 측정하는 도구로 사용됨.\n",
    "* inner prodcut가 0인 경우, **orthogonal**하다라고 표현하면 두 vector가 선형 독립임을 의미하기도 함."
   ]
  },
  {
   "cell_type": "code",
   "execution_count": null,
   "metadata": {
    "colab": {
     "base_uri": "https://localhost:8080/",
     "height": 58
    },
    "id": "aHScnRVMWQOk",
    "outputId": "a33317c3-c681-461c-c412-4c91158adea7"
   },
   "outputs": [
    {
     "data": {
      "text/latex": [
       "$$\\left[\\begin{matrix}1\\\\2\\end{matrix}\\right]\\cdot\\left[\\begin{matrix}3\\\\4\\end{matrix}\\right]=11$$"
      ],
      "text/plain": [
       "<IPython.core.display.Math object>"
      ]
     },
     "execution_count": 88,
     "metadata": {
      "tags": []
     },
     "output_type": "execute_result"
    }
   ],
   "source": [
    "a = sympy.Matrix(np.array([1,2]))\n",
    "b = sympy.Matrix(np.array([3,4]))\n",
    "\n",
    "c = a.dot(b)\n",
    "Math(sympy.latex(a)+'\\\\cdot'+sympy.latex(b)+'='+sympy.latex(c))"
   ]
  },
  {
   "cell_type": "code",
   "execution_count": null,
   "metadata": {
    "colab": {
     "base_uri": "https://localhost:8080/",
     "height": 58
    },
    "id": "ebHqhNabWQOl",
    "outputId": "bba9b334-cfca-42a2-eabf-7ec4bedb3bbe"
   },
   "outputs": [
    {
     "data": {
      "text/latex": [
       "$$\\left[\\begin{matrix}1 & 2\\end{matrix}\\right]\\left[\\begin{matrix}3\\\\4\\end{matrix}\\right]=11$$"
      ],
      "text/plain": [
       "<IPython.core.display.Math object>"
      ]
     },
     "execution_count": 89,
     "metadata": {
      "tags": []
     },
     "output_type": "execute_result"
    }
   ],
   "source": [
    "Math(sympy.latex(a.T)+sympy.latex(b)+'='+sympy.latex(c))"
   ]
  },
  {
   "cell_type": "markdown",
   "metadata": {
    "id": "3bffReh1WQOm"
   },
   "source": [
    "## Matrix multiplication is **NOT** commutative (교환법칙이 성립하지 않음)\n",
    "\n",
    "> commute : 통학하다, 출퇴근하다, 주기적으로 왔다 갔다 하는 것을 의미. (수학적으로 교환)\n",
    "\n",
    "$AB \\ne BA$ \n",
    "* Matrix multiplication is **NOT** commutative.\n",
    "* e.g. Given $A\\in \\mathbb{R}^{2\\times 3}$ and $B\\in \\mathbb{R}^{3\\times 5}$, $AB$ is defined, but $BA$ is not even defined.\n",
    "* What if $BA$ is defined, e.g., $A\\in \\mathbb{R}^{2\\times 3}$ and $B\\in \\mathbb{R}^{3\\times 2}$? Still, the sizes of $AB\\in \\mathbb{R}^{2 \\times 2}$ and $BA\\in \\mathbb{R}^{3 \\times 3}$ does not match, so $AB \\ne BA$.\n",
    "* What if the size of $AB$ and $BA$ match, e.g., $A\\in \\mathbb{R}^{2\\times 2}$ and $B\\in \\mathbb{R}^{2\\times 2}$? Still in the case, generally, $AB \\ne BA$.\n",
    "\n",
    "$$\n",
    "\\begin{bmatrix}\n",
    "1 & 2\\\\\n",
    "3 & 4\n",
    "\\end{bmatrix}\n",
    "\\begin{bmatrix}\n",
    "5 & 6\\\\\n",
    "7 & 8\n",
    "\\end{bmatrix}\n",
    "=\n",
    "\\begin{bmatrix}\n",
    "19 & 22\\\\\n",
    "43 & 50\n",
    "\\end{bmatrix} \\\\\n",
    "\\begin{bmatrix}\n",
    "5 & 6\\\\\n",
    "7 & 8\n",
    "\\end{bmatrix}\n",
    "\\begin{bmatrix}\n",
    "1 & 2\\\\\n",
    "3 & 4\n",
    "\\end{bmatrix}\n",
    "=\n",
    "\\begin{bmatrix}\n",
    "23 & 34\\\\\n",
    "50 & 46\n",
    "\\end{bmatrix}\n",
    "$$"
   ]
  },
  {
   "cell_type": "code",
   "execution_count": null,
   "metadata": {
    "colab": {
     "base_uri": "https://localhost:8080/",
     "height": 132
    },
    "id": "89BSlg7tWQOm",
    "outputId": "08a8281e-382f-4f98-89c6-1cf8296b644a"
   },
   "outputs": [
    {
     "name": "stdout",
     "output_type": "stream",
     "text": [
      "not equal\n",
      "not equal\n"
     ]
    },
    {
     "data": {
      "text/latex": [
       "$$\\left[\\begin{matrix}1 & 2\\\\3 & 4\\end{matrix}\\right]\\left[\\begin{matrix}5 & 6\\\\7 & 8\\end{matrix}\\right]=\\left[\\begin{matrix}19 & 22\\\\43 & 50\\end{matrix}\\right]\\\\\\left[\\begin{matrix}5 & 6\\\\7 & 8\\end{matrix}\\right]\\left[\\begin{matrix}1 & 2\\\\3 & 4\\end{matrix}\\right]=\\left[\\begin{matrix}23 & 34\\\\31 & 46\\end{matrix}\\right]$$"
      ],
      "text/plain": [
       "<IPython.core.display.Math object>"
      ]
     },
     "execution_count": 97,
     "metadata": {
      "tags": []
     },
     "output_type": "execute_result"
    }
   ],
   "source": [
    "A = np.array([[1,2],[3,4]])\n",
    "A_sym = sympy.Matrix(A)\n",
    "B = np.array([[5,6],[7,8]])\n",
    "B_sym = sympy.Matrix(B)\n",
    "\n",
    "C_np=np.dot(A,B)\n",
    "D_np=np.dot(B,A)\n",
    "#D_np=np.dot(A,B) # equal\n",
    "C = sympy.Matrix(C_np)\n",
    "D = sympy.Matrix(D_np)\n",
    "\n",
    "if (C_np == D_np).all():\n",
    "    print('equal')\n",
    "else:\n",
    "    print('not equal')\n",
    "\n",
    "if (C == D):\n",
    "    print('equal')\n",
    "else:\n",
    "    print('not equal')\n",
    "# ----------------------------\n",
    "# ValueError: The truth value of an array \n",
    "#             with more than one element is ambiguous.\n",
    "#\n",
    "# if (C_np == D_np):\n",
    "#     print('equal')\n",
    "# else:\n",
    "#     print('not equal')\n",
    "\n",
    "Math(\n",
    "    sympy.latex(A_sym)+sympy.latex(B_sym)+'='+sympy.latex(C) +'\\\\\\\\'+\n",
    "    sympy.latex(B_sym)+sympy.latex(A_sym)+'='+sympy.latex(D)\n",
    ")\n"
   ]
  },
  {
   "cell_type": "markdown",
   "metadata": {
    "id": "VZm3iHLiWQOn"
   },
   "source": [
    "# Other Properties of Matrix\n",
    "\n",
    "* Distributive(분배) Law $$A(B+C) = AB+AC$$\n",
    "* Associative(결합) Law $$A(BC) = (AB)C$$\n",
    "* Property of transpose $$(AB)^T = B^TA^T$$"
   ]
  },
  {
   "cell_type": "markdown",
   "metadata": {
    "id": "ECCx40_SWQOn"
   },
   "source": [
    "## Linear System (Ch1.1)\n",
    "* A **System of linear equations** (or a **linear system**) is a collection of one or more linear equations involving the same variables &mdash; say, $x_1,\\cdots ,x_n$.\n",
    "\n",
    "> ### Linear system의 활용예? ###\n",
    ">\n",
    "> Suppose we collected persons' weight, height, and life-span,\n",
    ">\n",
    "> |ID|Weight|Height|Is_smoking|Life-span|\n",
    "> |---|---|---|---|---|\n",
    "> |1 |60kg|5.5ft|Yes(=1)|66|\n",
    "> |2 |65kg|5.0ft|No(=1)|74|\n",
    "> |3 |55kg|6.0ft|Yes(=1)|78|\n",
    ">\n",
    "> * We can setup the following linear system:\n",
    "> $$\\begin{align}60x_1+5.5x_2+1x_3&=66\\\\65x_1+5.0x_2+0x_3&=74\\\\55x_1+6.0x_2+1x_3&=78\\end{align}$$\n",
    "> * Once we solve for $x_1$, $x_2$, and $x_3$, given a new person with his/her weight, height, and is_smoking, we can predict his/her life-span."
   ]
  },
  {
   "cell_type": "code",
   "execution_count": null,
   "metadata": {
    "colab": {
     "base_uri": "https://localhost:8080/",
     "height": 78
    },
    "id": "VAXaaPK4WQOn",
    "outputId": "36c81164-5af1-48a8-dae7-b7c196a2bcad"
   },
   "outputs": [
    {
     "data": {
      "text/latex": [
       "$$\\left[\\begin{matrix}60.0 & 5.5 & 1.0 & 66\\\\65.0 & 5.0 & 0.0 & 74\\\\55.0 & 6.0 & 1.0 & 78\\end{matrix}\\right]$$"
      ],
      "text/plain": [
       "<IPython.core.display.Math object>"
      ]
     },
     "execution_count": 102,
     "metadata": {
      "tags": []
     },
     "output_type": "execute_result"
    }
   ],
   "source": [
    "# coefficient matrix A and a vector b\n",
    "A_np=np.array([[60, 5.5, 1],\n",
    "            [65, 5.0, 0],\n",
    "            [55, 6.0, 1]])\n",
    "A = sympy.Matrix(A_np)\n",
    "b_np=np.array([66, 74, 78])\n",
    "b = sympy.Matrix(b_np)\n",
    "\n",
    "# argumented matrix\n",
    "Ag_np = np.concatenate( (A,b), axis=1)\n",
    "Ag = sympy.Matrix(Ag_np)\n",
    "Math(sympy.latex(Ag))"
   ]
  },
  {
   "cell_type": "code",
   "execution_count": null,
   "metadata": {
    "colab": {
     "base_uri": "https://localhost:8080/",
     "height": 78
    },
    "id": "ucpVnpMXWQOo",
    "outputId": "9ee375ec-18fd-4ce2-e33a-afbbfc99c960"
   },
   "outputs": [
    {
     "data": {
      "text/html": [
       "<script src='https://cdnjs.cloudflare.com/ajax/libs/mathjax/2.7.3/latest.js?config=default'></script>"
      ],
      "text/plain": [
       "<IPython.core.display.HTML object>"
      ]
     },
     "metadata": {
      "tags": []
     },
     "output_type": "display_data"
    },
    {
     "data": {
      "text/latex": [
       "$$\\left[\\begin{matrix}60.0 & 5.5 & 1.0 & 66.0\\\\65.0 & 5.0 & 0.0 & 74.0\\\\55.0 & 6.0 & 1.0 & 78.0\\end{matrix}\\right]$$"
      ],
      "text/plain": [
       "⎡60.0  5.5  1.0  66.0⎤\n",
       "⎢                    ⎥\n",
       "⎢65.0  5.0  0.0  74.0⎥\n",
       "⎢                    ⎥\n",
       "⎣55.0  6.0  1.0  78.0⎦"
      ]
     },
     "execution_count": 103,
     "metadata": {
      "tags": []
     },
     "output_type": "execute_result"
    }
   ],
   "source": [
    "Ag_np2 = np.concatenate( (A_np,np.array([b_np]).T), axis=1)\n",
    "sympy.Matrix(Ag_np2)"
   ]
  },
  {
   "cell_type": "markdown",
   "metadata": {
    "id": "nlVys74CWQOp"
   },
   "source": [
    "## From Linear System (System of linear equations) To Single Matrix Equation\n",
    "\n",
    "* Multiple linear equations can be converted into a single **Matrix equation (ch1.4)**.\n",
    "\n",
    "$$\n",
    "\\begin{matrix}\n",
    "60x_1+5.5x_2+1x_3&=66\\\\\n",
    "65x_1+5.0x_2+0x_3&=74\\\\\n",
    "55x_1+6.0x_2+1x_3&=78\\\\\n",
    "\\\\\n",
    "\\end{matrix}\n",
    "\\Rightarrow\n",
    "\\begin{matrix}\n",
    "\\begin{bmatrix}\n",
    "60&5.5&1\\\\\n",
    "65&5.0&0\\\\\n",
    "55&6.0&1\n",
    "\\end{bmatrix}\n",
    "&\\begin{bmatrix}x_1 \\\\ x_2 \\\\ x_3\\end{bmatrix}\n",
    "&=\n",
    "&\\begin{bmatrix}66 \\\\ 74 \\\\ 78\\end{bmatrix} \\\\\n",
    "A & \\textbf{x} &= &\\textbf{b}\n",
    "\\end{matrix}\n",
    "\\Leftarrow\n",
    "\\begin{matrix}\n",
    "\\textbf{a}_1^T \\textbf{x} &=66 \\\\\n",
    "\\textbf{a}_2^T \\textbf{x} &=74 \\\\\n",
    "\\textbf{a}_3^T \\textbf{x} &=78 \\\\\n",
    "\\\\\n",
    "\\end{matrix}\n",
    "$$\n",
    "\n",
    "* How can we solve for $\\textbf{x}$? \n",
    "  * Do you remember the concepts of identity matrix and inverse matrix?"
   ]
  },
  {
   "cell_type": "markdown",
   "metadata": {
    "id": "yjq53JCHWQOp"
   },
   "source": [
    "## Identity matrix\n",
    "\n",
    "$$\n",
    "\\begin{bmatrix}\n",
    "1 & 0 & 0 & \\cdots & 0 \\\\\n",
    "0 & 1 & 0 & \\cdots & 0 \\\\\n",
    "0 & 0 & 1 & \\cdots & 0 \\\\ \n",
    "\\vdots & \\vdots & \\vdots & \\vdots & \\vdots \\\\\n",
    "0 & 0 & 0 & \\cdots & 1 \\\\ \n",
    "\\end{bmatrix}\n",
    "$$"
   ]
  },
  {
   "cell_type": "code",
   "execution_count": null,
   "metadata": {
    "colab": {
     "base_uri": "https://localhost:8080/",
     "height": 78
    },
    "id": "MJTlK5bMWQOp",
    "outputId": "f76399b2-dfd3-4bdf-bd3d-6de7855c7057"
   },
   "outputs": [
    {
     "data": {
      "text/html": [
       "<script src='https://cdnjs.cloudflare.com/ajax/libs/mathjax/2.7.3/latest.js?config=default'></script>"
      ],
      "text/plain": [
       "<IPython.core.display.HTML object>"
      ]
     },
     "metadata": {
      "tags": []
     },
     "output_type": "display_data"
    },
    {
     "data": {
      "text/latex": [
       "$$\\left[\\begin{matrix}1.0 & 0.0 & 0.0\\\\0.0 & 1.0 & 0.0\\\\0.0 & 0.0 & 1.0\\end{matrix}\\right]$$"
      ],
      "text/plain": [
       "⎡1.0  0.0  0.0⎤\n",
       "⎢             ⎥\n",
       "⎢0.0  1.0  0.0⎥\n",
       "⎢             ⎥\n",
       "⎣0.0  0.0  1.0⎦"
      ]
     },
     "execution_count": 119,
     "metadata": {
      "tags": []
     },
     "output_type": "execute_result"
    }
   ],
   "source": [
    "# identity matrix \n",
    "eye3 = np.eye(3)\n",
    "#print(eye3)\n",
    "sympy.Matrix(eye3)"
   ]
  },
  {
   "cell_type": "code",
   "execution_count": null,
   "metadata": {
    "colab": {
     "base_uri": "https://localhost:8080/",
     "height": 82
    },
    "id": "k4QzpitqWQOs",
    "outputId": "81964128-c1c0-4091-a0df-e04b0e42f2d6"
   },
   "outputs": [
    {
     "data": {
      "text/latex": [
       "$$\\left[\\begin{matrix}60.0 & 5.5 & 1.0\\\\65.0 & 5.0 & 0.0\\\\55.0 & 6.0 & 1.0\\end{matrix}\\right]^{-1}=\\left[\\begin{matrix}0.0869565217391305 & 0.00869565217391305 & -0.0869565217391305\\\\-1.1304347826087 & 0.0869565217391304 & 1.1304347826087\\\\2.0 & -1.0 & -1.0\\end{matrix}\\right]$$"
      ],
      "text/plain": [
       "<IPython.core.display.Math object>"
      ]
     },
     "execution_count": 131,
     "metadata": {
      "tags": []
     },
     "output_type": "execute_result"
    }
   ],
   "source": [
    "# computing an inverse\n",
    "from numpy.linalg import inv\n",
    "\n",
    "# A_np = np.array([[1,2],[3,4]])\n",
    "A_np=np.array([[60, 5.5, 1],\n",
    "            [65, 5.0, 0],\n",
    "            [55, 6.0, 1]])\n",
    "invA_np = inv(A_np)\n",
    "\n",
    "A = sympy.Matrix(A_np)\n",
    "A_inv = sympy.Matrix(invA_np)\n",
    "\n",
    "Math(sympy.latex(A)+'^{-1}'+'='+sympy.latex(A_inv))"
   ]
  },
  {
   "cell_type": "code",
   "execution_count": null,
   "metadata": {
    "colab": {
     "base_uri": "https://localhost:8080/",
     "height": 82
    },
    "id": "WXfK0rSlWQOw",
    "outputId": "dd91479b-bea9-466f-9fc7-a64bc29a60cf"
   },
   "outputs": [
    {
     "data": {
      "text/latex": [
       "$$\\left[\\begin{matrix}60.0 & 5.5 & 1.0\\\\65.0 & 5.0 & 0.0\\\\55.0 & 6.0 & 1.0\\end{matrix}\\right]^{-1}=\\left[\\begin{matrix}0.0869565217391304 & 0.00869565217391304 & -0.0869565217391304\\\\-1.1304347826087 & 0.0869565217391304 & 1.1304347826087\\\\2.0 & -1.0 & -1.0\\end{matrix}\\right]$$"
      ],
      "text/plain": [
       "<IPython.core.display.Math object>"
      ]
     },
     "execution_count": 132,
     "metadata": {
      "tags": []
     },
     "output_type": "execute_result"
    }
   ],
   "source": [
    "A_inv = A.inv()\n",
    "Math(sympy.latex(A)+'^{-1}'+'='+sympy.latex(A_inv))"
   ]
  },
  {
   "cell_type": "code",
   "execution_count": null,
   "metadata": {
    "colab": {
     "base_uri": "https://localhost:8080/",
     "height": 78
    },
    "id": "8n9Y0aPuWQOy",
    "outputId": "f7f2e221-bc8a-4ec3-b4c7-23284b2815c2"
   },
   "outputs": [
    {
     "data": {
      "text/html": [
       "<script src='https://cdnjs.cloudflare.com/ajax/libs/mathjax/2.7.3/latest.js?config=default'></script>"
      ],
      "text/plain": [
       "<IPython.core.display.HTML object>"
      ]
     },
     "metadata": {
      "tags": []
     },
     "output_type": "display_data"
    },
    {
     "data": {
      "text/latex": [
       "$$\\left[\\begin{matrix}5.21739130434783 & 0.0478260869565218 & -0.0869565217391305\\\\-73.4782608695652 & 0.434782608695652 & 0.0\\\\110.0 & -6.0 & -1.0\\end{matrix}\\right]$$"
      ],
      "text/plain": [
       "⎡5.21739130434783   0.0478260869565218  -0.0869565217391305⎤\n",
       "⎢                                                          ⎥\n",
       "⎢-73.4782608695652  0.434782608695652           0.0        ⎥\n",
       "⎢                                                          ⎥\n",
       "⎣      110.0               -6.0                -1.0        ⎦"
      ]
     },
     "execution_count": 133,
     "metadata": {
      "tags": []
     },
     "output_type": "execute_result"
    }
   ],
   "source": [
    "# wrong matrix multiplication\n",
    "# because it is the element-wise multiplication\n",
    "element_wise_mulitplication = A_np*invA_np\n",
    "sympy.Matrix(element_wise_mulitplication)"
   ]
  },
  {
   "cell_type": "code",
   "execution_count": null,
   "metadata": {
    "colab": {
     "base_uri": "https://localhost:8080/",
     "height": 78
    },
    "id": "cwGGQSNtWQOx",
    "outputId": "0e305922-6faf-4a98-e4d9-eea4fe4583a4"
   },
   "outputs": [
    {
     "data": {
      "text/html": [
       "<script src='https://cdnjs.cloudflare.com/ajax/libs/mathjax/2.7.3/latest.js?config=default'></script>"
      ],
      "text/plain": [
       "<IPython.core.display.HTML object>"
      ]
     },
     "metadata": {
      "tags": []
     },
     "output_type": "display_data"
    },
    {
     "data": {
      "text/latex": [
       "$$\\left[\\begin{matrix}1.0 & 0 & 0\\\\0 & 1.0 & 0\\\\-1.77635683940025 \\cdot 10^{-15} & 0 & 1.0\\end{matrix}\\right]$$"
      ],
      "text/plain": [
       "⎡         1.0            0    0 ⎤\n",
       "⎢                               ⎥\n",
       "⎢          0            1.0   0 ⎥\n",
       "⎢                               ⎥\n",
       "⎣-1.77635683940025e-15   0   1.0⎦"
      ]
     },
     "execution_count": 134,
     "metadata": {
      "tags": []
     },
     "output_type": "execute_result"
    }
   ],
   "source": [
    "# In the sympy, * between matrix means the matrix production. \n",
    "A*A_inv"
   ]
  },
  {
   "cell_type": "code",
   "execution_count": null,
   "metadata": {
    "colab": {
     "base_uri": "https://localhost:8080/",
     "height": 78
    },
    "id": "tEPFH0M1WQOz",
    "outputId": "80ddcd8c-962f-468f-cb90-1301d88555fc"
   },
   "outputs": [
    {
     "data": {
      "text/html": [
       "<script src='https://cdnjs.cloudflare.com/ajax/libs/mathjax/2.7.3/latest.js?config=default'></script>"
      ],
      "text/plain": [
       "<IPython.core.display.HTML object>"
      ]
     },
     "metadata": {
      "tags": []
     },
     "output_type": "display_data"
    },
    {
     "data": {
      "text/latex": [
       "$$\\left[\\begin{matrix}1.0 & 0.0 & -4.44089209850063 \\cdot 10^{-16}\\\\8.88178419700125 \\cdot 10^{-16} & 1.0 & -8.88178419700125 \\cdot 10^{-16}\\\\-8.88178419700125 \\cdot 10^{-16} & 0.0 & 1.0\\end{matrix}\\right]$$"
      ],
      "text/plain": [
       "⎡         1.0           0.0  -4.44089209850063e-16⎤\n",
       "⎢                                                 ⎥\n",
       "⎢8.88178419700125e-16   1.0  -8.88178419700125e-16⎥\n",
       "⎢                                                 ⎥\n",
       "⎣-8.88178419700125e-16  0.0           1.0         ⎦"
      ]
     },
     "execution_count": 135,
     "metadata": {
      "tags": []
     },
     "output_type": "execute_result"
    }
   ],
   "source": [
    "# correct matrix multiplication\n",
    "matrix_multiplication = A_np.dot(invA_np)\n",
    "sympy.Matrix(matrix_multiplication)"
   ]
  },
  {
   "cell_type": "code",
   "execution_count": null,
   "metadata": {
    "colab": {
     "base_uri": "https://localhost:8080/",
     "height": 78
    },
    "id": "-bUnVDCaWQOz",
    "outputId": "31a5c650-35df-45d6-9c5f-b3c1abd3e476"
   },
   "outputs": [
    {
     "data": {
      "text/html": [
       "<script src='https://cdnjs.cloudflare.com/ajax/libs/mathjax/2.7.3/latest.js?config=default'></script>"
      ],
      "text/plain": [
       "<IPython.core.display.HTML object>"
      ]
     },
     "metadata": {
      "tags": []
     },
     "output_type": "display_data"
    },
    {
     "data": {
      "text/latex": [
       "$$\\left[\\begin{matrix}-0.4\\\\20.0\\\\-20.0\\end{matrix}\\right]$$"
      ],
      "text/plain": [
       "⎡-0.4 ⎤\n",
       "⎢     ⎥\n",
       "⎢20.0 ⎥\n",
       "⎢     ⎥\n",
       "⎣-20.0⎦"
      ]
     },
     "execution_count": 136,
     "metadata": {
      "tags": []
     },
     "output_type": "execute_result"
    }
   ],
   "source": [
    "# solution of a linear system\n",
    "x=A_inv.multiply(b)\n",
    "x"
   ]
  },
  {
   "cell_type": "code",
   "execution_count": null,
   "metadata": {
    "colab": {
     "base_uri": "https://localhost:8080/",
     "height": 78
    },
    "id": "h1AubNIhWQO0",
    "outputId": "8bbf3257-8eaf-4204-f38a-e154b2763847"
   },
   "outputs": [
    {
     "data": {
      "text/html": [
       "<script src='https://cdnjs.cloudflare.com/ajax/libs/mathjax/2.7.3/latest.js?config=default'></script>"
      ],
      "text/plain": [
       "<IPython.core.display.HTML object>"
      ]
     },
     "metadata": {
      "tags": []
     },
     "output_type": "display_data"
    },
    {
     "data": {
      "text/latex": [
       "$$\\left[\\begin{matrix}-0.4\\\\20.0\\\\-20.0\\end{matrix}\\right]$$"
      ],
      "text/plain": [
       "⎡-0.4 ⎤\n",
       "⎢     ⎥\n",
       "⎢20.0 ⎥\n",
       "⎢     ⎥\n",
       "⎣-20.0⎦"
      ]
     },
     "execution_count": 137,
     "metadata": {
      "tags": []
     },
     "output_type": "execute_result"
    }
   ],
   "source": [
    "# a better way to solve the same linear system\n",
    "#\n",
    "# A is coefficient matrix\n",
    "# b is right side column vector having target values.\n",
    "from numpy.linalg import solve\n",
    "x_np = solve(A_np,b_np)\n",
    "sympy.Matrix(x_np)"
   ]
  },
  {
   "cell_type": "markdown",
   "metadata": {
    "id": "bqZ51xFrWQO0"
   },
   "source": [
    "# Note\n",
    "* It is unusal to get the inverse matrix itself!\n",
    "* In the above example, solve function doesn't calculate A_inv directly."
   ]
  },
  {
   "cell_type": "code",
   "execution_count": null,
   "metadata": {
    "colab": {
     "base_uri": "https://localhost:8080/",
     "height": 78
    },
    "id": "GbvkEfhJWQO1",
    "outputId": "39fb8950-5d86-48b7-8e98-aaf62e76321b"
   },
   "outputs": [
    {
     "data": {
      "text/html": [
       "<script src='https://cdnjs.cloudflare.com/ajax/libs/mathjax/2.7.3/latest.js?config=default'></script>"
      ],
      "text/plain": [
       "<IPython.core.display.HTML object>"
      ]
     },
     "metadata": {
      "tags": []
     },
     "output_type": "display_data"
    },
    {
     "data": {
      "text/latex": [
       "$$\\left[\\begin{matrix}60.0 & 5.5 & 1.0\\\\65.0 & 5.0 & 0.0\\\\55.0 & 6.0 & 1.0\\end{matrix}\\right]$$"
      ],
      "text/plain": [
       "⎡60.0  5.5  1.0⎤\n",
       "⎢              ⎥\n",
       "⎢65.0  5.0  0.0⎥\n",
       "⎢              ⎥\n",
       "⎣55.0  6.0  1.0⎦"
      ]
     },
     "execution_count": 140,
     "metadata": {
      "tags": []
     },
     "output_type": "execute_result"
    }
   ],
   "source": [
    "A"
   ]
  },
  {
   "cell_type": "code",
   "execution_count": null,
   "metadata": {
    "colab": {
     "base_uri": "https://localhost:8080/",
     "height": 286
    },
    "id": "C19ns3bVWQO1",
    "outputId": "ef072adc-ec7a-4726-863e-8423623048dc"
   },
   "outputs": [
    {
     "data": {
      "text/plain": [
       "<matplotlib.image.AxesImage at 0x7f0d665a4eb8>"
      ]
     },
     "execution_count": 141,
     "metadata": {
      "tags": []
     },
     "output_type": "execute_result"
    },
    {
     "data": {
      "image/png": "[encoded data removed]",
      "text/plain": [
       "<Figure size 432x288 with 1 Axes>"
      ]
     },
     "metadata": {
      "needs_background": "light",
      "tags": []
     },
     "output_type": "display_data"
    }
   ],
   "source": [
    "import matplotlib.pyplot as plt\n",
    "\n",
    "plt.imshow(A_np,cmap='gray')"
   ]
  },
  {
   "cell_type": "code",
   "execution_count": null,
   "metadata": {
    "id": "92ySWnPSY-dV"
   },
   "outputs": [],
   "source": []
  }
 ],
 "metadata": {
  "anaconda-cloud": {},
  "colab": {
   "collapsed_sections": [
    "nlVys74CWQOp"
   ],
   "name": "01_LA_basics.ipynb",
   "provenance": []
  },
  "kernelspec": {
   "display_name": "Python 3",
   "language": "python",
   "name": "python3"
  },
  "language_info": {
   "codemirror_mode": {
    "name": "ipython",
    "version": 3
   },
   "file_extension": ".py",
   "mimetype": "text/x-python",
   "name": "python",
   "nbconvert_exporter": "python",
   "pygments_lexer": "ipython3",
   "version": "3.7.4"
  }
 },
 "nbformat": 4,
 "nbformat_minor": 1
}
